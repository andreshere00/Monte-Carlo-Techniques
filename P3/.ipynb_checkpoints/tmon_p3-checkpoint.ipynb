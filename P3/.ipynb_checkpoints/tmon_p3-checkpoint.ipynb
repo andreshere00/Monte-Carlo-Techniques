{
 "cells": [
  {
   "cell_type": "markdown",
   "metadata": {
    "id": "9ZpYAhqIazED"
   },
   "source": [
    "# **Técnicas de Monte Carlo (TMON) - Intervalos de confianza**\n",
    "\n",
    "MUTECI 2023/2024\n",
    "\n",
    "Andrés Herencia López-Menchero"
   ]
  },
  {
   "cell_type": "markdown",
   "metadata": {
    "id": "E1H9BAuGXWzU"
   },
   "source": [
    "## Ejercicio 1\n",
    "Genera $10^4$ muestras de valores $\\text{U}(0, \\Theta = 1)$ de tamaño $100$, y construir a partir de ellas $10^4$ intervalos de confianza."
   ]
  },
  {
   "cell_type": "code",
   "execution_count": 1,
   "metadata": {
    "id": "QdHqIa3-SwGS"
   },
   "outputs": [],
   "source": [
    "import numpy as np\n",
    "\n",
    "N = 10**4\n",
    "n = 100\n",
    "theta = 1\n",
    "alpha = 0.05\n",
    "ic, contained = [], []\n",
    "\n",
    "for i in range(N):\n",
    "    sample = np.random.uniform(0, theta, size=100)\n",
    "    ic.append([max(sample), max(sample) / pow(alpha,1/n) ])\n",
    "    contained.append(False) if (theta > ic[i][1] or theta < ic[i][0]) else contained.append(True)"
   ]
  },
  {
   "cell_type": "markdown",
   "metadata": {},
   "source": [
    "Una forma alternativa de crear una muestra uniforme de datos sin usar las clásicas `pre-built` functions sería usar el método de congruencias finitas. Aunque el coste computacional se eleva enormemente."
   ]
  },
  {
   "cell_type": "code",
   "execution_count": 2,
   "metadata": {},
   "outputs": [],
   "source": [
    "import time\n",
    "import pandas as pd\n",
    "\n",
    "def uniform_dist_congr(seed = float(time.time()), a=5, b=3, m=16, size=10):\n",
    "    \"\"\"\n",
    "    Generates a sequence of pseudo-random numbers using a linear congruential generator.\n",
    "\n",
    "    Parameters:\n",
    "    - seed (float): The seed value for the generator. Default is the current timestamp.\n",
    "    - a (int): Multiplier in the linear congruential formula. Default is 5.\n",
    "    - b (int): Increment in the linear congruential formula. Default is 3.\n",
    "    - m (int): Modulus in the linear congruential formula. Default is 16.\n",
    "    - size (int): Number of pseudo-random numbers to generate. Default is 10.\n",
    "\n",
    "    Returns:\n",
    "    pandas.DataFrame: A DataFrame containing the generated pseudo-random numbers.\n",
    "    The DataFrame has columns 'i' (iteration index), 'X' (intermediate result), and 'Y' (final result).\n",
    "\n",
    "    Raises:\n",
    "    Exception: If the seed is not a valid number (float with integer value).\n",
    "    \"\"\"\n",
    "    if int(seed) % 1 != 0:\n",
    "        raise Exception('The seed must be a valid number.')\n",
    "    X = seed\n",
    "    Y = a*X + b\n",
    "    data = pd.DataFrame(columns = [\"i\", \"X\", \"Y\"])\n",
    "    for i in range(size):\n",
    "        X = Y % m\n",
    "        Y = a*X + b\n",
    "        data.loc[len(data.index)] = [i,X,Y] \n",
    "    return data"
   ]
  },
  {
   "cell_type": "code",
   "execution_count": 3,
   "metadata": {},
   "outputs": [],
   "source": [
    "ic, contained = [], []\n",
    "N=10**3 # para que no tarde tanto\n",
    "for i in range(N):\n",
    "    sample = np.array(uniform_dist_congr(m=1, size=100).X) # función pro\n",
    "    ic.append([max(sample),max(sample)/pow(alpha,1/n)])\n",
    "    contained.append(False) if (theta > ic[i][1] or theta < ic[i][0]) else contained.append(True)\n",
    "N = 10**4"
   ]
  },
  {
   "cell_type": "code",
   "execution_count": 4,
   "metadata": {},
   "outputs": [
    {
     "data": {
      "text/plain": [
       "[0.9974946975708008, 1.0278290678374449]"
      ]
     },
     "execution_count": 4,
     "metadata": {},
     "output_type": "execute_result"
    }
   ],
   "source": [
    "[max(sample),max(sample)/pow(alpha,1/n)]"
   ]
  },
  {
   "cell_type": "markdown",
   "metadata": {
    "id": "uU6EF8raYE8-"
   },
   "source": [
    "Mostramos los primeros 10 Intervalos de confianza:"
   ]
  },
  {
   "cell_type": "code",
   "execution_count": 5,
   "metadata": {
    "colab": {
     "base_uri": "https://localhost:8080/"
    },
    "id": "H5QAzjDjYIV5",
    "outputId": "a98dcfeb-c2d5-4080-c3b1-a244206d8ba5"
   },
   "outputs": [
    {
     "data": {
      "text/plain": [
       "[[0.9974946975708008, 1.0278290678374449],\n",
       " [0.9974946975708008, 1.0278290678374449],\n",
       " [0.9974946975708008, 1.0278290678374449],\n",
       " [0.9974946975708008, 1.0278290678374449],\n",
       " [0.9974946975708008, 1.0278290678374449],\n",
       " [0.9974946975708008, 1.0278290678374449],\n",
       " [0.9974946975708008, 1.0278290678374449],\n",
       " [0.9974946975708008, 1.0278290678374449],\n",
       " [0.9974946975708008, 1.0278290678374449],\n",
       " [0.9974946975708008, 1.0278290678374449]]"
      ]
     },
     "execution_count": 5,
     "metadata": {},
     "output_type": "execute_result"
    }
   ],
   "source": [
    "ic[0:10]"
   ]
  },
  {
   "cell_type": "markdown",
   "metadata": {
    "id": "XfWFs2QZV2Yj"
   },
   "source": [
    "## Ejercicio 2\n",
    "Probar que, fijando $\\alpha = 0.05$, el verdadero valor $\\Theta = 1$ está contenido en un $95\\%$ de ellos."
   ]
  },
  {
   "cell_type": "code",
   "execution_count": 6,
   "metadata": {
    "colab": {
     "base_uri": "https://localhost:8080/"
    },
    "id": "I7M7OXUHWH4n",
    "outputId": "e9fa9c4d-824b-4208-d128-598539f07d44"
   },
   "outputs": [
    {
     "name": "stdout",
     "output_type": "stream",
     "text": [
      "10.0 %\n"
     ]
    }
   ],
   "source": [
    "print(round((sum(contained)/N)*100,4),'%')"
   ]
  },
  {
   "cell_type": "markdown",
   "metadata": {
    "id": "lCVrDsnQXfaa"
   },
   "source": [
    "## Ejercicio 3\n",
    "Probar que el siguiente también sería un intervalo de confianza a nivel $1 − \\alpha$ para $\\Theta$:\n",
    "\n",
    "$$\\left[\\frac{x_{(n)}}{\\sqrt[n]{1-\\frac{\\alpha}{2}}},\\frac{x_{(n)}}{\\sqrt[n]{\\frac{\\alpha}{2}}}\\right]$$"
   ]
  },
  {
   "cell_type": "code",
   "execution_count": 7,
   "metadata": {
    "id": "3VkJECnlYLZu"
   },
   "outputs": [],
   "source": [
    "ic2, contained2 = [], []\n",
    "for i in range(N):\n",
    "    sample = np.random.uniform(0,theta,size=100)\n",
    "    ic2.append([max(sample)/pow(1-alpha/2,1/n), max(sample)/pow(alpha/2,1/n)])\n",
    "    contained2.append(False) if (theta > ic2[i][1] or theta < ic2[i][0]) else contained2.append(True)"
   ]
  },
  {
   "cell_type": "code",
   "execution_count": 8,
   "metadata": {
    "colab": {
     "base_uri": "https://localhost:8080/"
    },
    "id": "mVfMY7ylgN9F",
    "outputId": "9c2b20a9-62b8-49a8-8d63-ccc1651b2ad4"
   },
   "outputs": [
    {
     "data": {
      "text/plain": [
       "[[0.9781933372617497, 1.0146945937287326],\n",
       " [0.9928453985897365, 1.029893396307074],\n",
       " [0.9722813865169257, 1.0085620387105643],\n",
       " [0.9876405939985805, 1.024494374581119],\n",
       " [0.9953220877273677, 1.032462503029203],\n",
       " [0.989134883229507, 1.0260444231720576],\n",
       " [0.9968582654597435, 1.0340560031898272],\n",
       " [0.985911395053032, 1.0227006506262604],\n",
       " [0.9901759091381738, 1.0271242949328003],\n",
       " [0.9942543373450573, 1.031354909571845]]"
      ]
     },
     "execution_count": 8,
     "metadata": {},
     "output_type": "execute_result"
    }
   ],
   "source": [
    "ic2[0:10]"
   ]
  },
  {
   "cell_type": "code",
   "execution_count": 9,
   "metadata": {
    "colab": {
     "base_uri": "https://localhost:8080/"
    },
    "id": "C_U7uTy9YWWI",
    "outputId": "25d46270-3b24-46f3-b46e-68ce9a5d230e"
   },
   "outputs": [
    {
     "name": "stdout",
     "output_type": "stream",
     "text": [
      "94.7 %\n"
     ]
    }
   ],
   "source": [
    "print(round((sum(contained2)/N)*100,4),'%')"
   ]
  },
  {
   "cell_type": "markdown",
   "metadata": {
    "id": "7-8Bk8n4Ya4V"
   },
   "source": [
    "Como podemos ver, el valor de $\\Theta=1$ también cae en el (casi) 95% de los intervalos de confianza, de tal forma que podemos demostrar que esta forma de definir los intervalos de confianza es válida."
   ]
  },
  {
   "cell_type": "markdown",
   "metadata": {
    "id": "4ULzhfOQXocI"
   },
   "source": [
    "## Ejercicio 4\n",
    "Probar que los intervalos $\\left[\\frac{x_{(n)}}{1},\\frac{x_{(n)}}{\\sqrt[n]{\\alpha}}\\right]$ tienen efectivamente menor longitud."
   ]
  },
  {
   "cell_type": "markdown",
   "metadata": {
    "id": "hl5VBPkFhPMK"
   },
   "source": [
    "Puesto que todos los intervalos tienen la misma longitud (ya que $n$ y $\\alpha$ son constantes), se puede probar para un solo intervalo.\n",
    "\n",
    "Este código dará `True` si el intervalo de confianza del ejercicio 1 es mayor, y dará `False` si el intervalo de confianza del ejercicio 1 es menor. Se puede demostrar también operando matemáticamente."
   ]
  },
  {
   "cell_type": "code",
   "execution_count": 10,
   "metadata": {
    "colab": {
     "base_uri": "https://localhost:8080/"
    },
    "id": "LjoXHMkaguNb",
    "outputId": "b2aaf5bd-a9d6-42fb-a411-ea9179b30188"
   },
   "outputs": [
    {
     "data": {
      "text/plain": [
       "False"
      ]
     },
     "execution_count": 10,
     "metadata": {},
     "output_type": "execute_result"
    }
   ],
   "source": [
    "True if np.diff(ic[0]) > np.diff(ic2[0]) else False"
   ]
  },
  {
   "cell_type": "markdown",
   "metadata": {
    "id": "ZoOIoGXtZN7L"
   },
   "source": [
    "## Ejercicio 5\n",
    "Calcular los valores medios asociados a cada una de las 10.000 muestras y probar que, de acuerdo al Teorema Central del Límite, dichos valores medios se distribuyen de acuerdo a una $N \\left( \\mu = \\frac{1+\\sigma}{2}, \\: \\sigma^2=\\frac{(1-0)^2}{12n} \\right) $."
   ]
  },
  {
   "cell_type": "code",
   "execution_count": 11,
   "metadata": {
    "id": "5bYGvqnSeA4R"
   },
   "outputs": [],
   "source": [
    "means = []\n",
    "samples = []\n",
    "for i in range(N):\n",
    "    samples.append(np.random.uniform(0,theta,size=100))\n",
    "    means.append(np.mean(samples[i]))"
   ]
  },
  {
   "cell_type": "code",
   "execution_count": 12,
   "metadata": {
    "colab": {
     "base_uri": "https://localhost:8080/",
     "height": 453
    },
    "id": "OAnuVnXwncfQ",
    "outputId": "41fc4a9c-5a53-45ad-f870-9217c7c6f874"
   },
   "outputs": [
    {
     "data": {
      "image/png": "[encoded data removed]",
      "text/plain": [
       "<Figure size 640x480 with 1 Axes>"
      ]
     },
     "metadata": {},
     "output_type": "display_data"
    }
   ],
   "source": [
    "import matplotlib.pyplot as plt\n",
    "\n",
    "count, bins, ignored = plt.hist(means, 30, density=True, label ='Medias')\n",
    "sigma = np.sqrt(((1-0)**2)/(12*n))\n",
    "mu = (1 + sigma/np.sqrt(n))/2\n",
    "plt.plot(bins, 1/(sigma * np.sqrt(2 * np.pi)) *\n",
    "               np.exp( - (bins - mu)**2 / (2 * sigma**2) ),\n",
    "         linewidth=2, color='r', label = 'Dist. normal')\n",
    "plt.title('Distribución de las medias generadas por las muestras uniformes')\n",
    "plt.legend()\n",
    "plt.show()"
   ]
  },
  {
   "cell_type": "markdown",
   "metadata": {
    "id": "u1YIB5rWaqEp"
   },
   "source": [
    "## Ejercicio 6\n",
    "Para una de las muestras, contrastar la uniformidad e independencia."
   ]
  },
  {
   "cell_type": "markdown",
   "metadata": {
    "id": "bMZ-6_Rmw76M"
   },
   "source": [
    "### Contrastando la uniformidad\n",
    "\n",
    "Podemos contrastar si la distribución es uniforme a través del test de $\\chi^2 $. Este test se formula de la siguiente forma: \n",
    "\n",
    "- Hipótesis nula ($H_0$): La distribución se produjo de forma uniforme.\n",
    "- Hipotésis alternativa ($H_1$): La distribución no es uniforme.\n",
    "\n",
    "Definimos como criterio de rechazo el p-valor. Si el p-valor es mayor que 0.05, aceptamos la hipótesis nula; en caso contrario, la rechazamos."
   ]
  },
  {
   "cell_type": "code",
   "execution_count": 14,
   "metadata": {
    "colab": {
     "base_uri": "https://localhost:8080/"
    },
    "id": "DZCbVf8qvL6f",
    "outputId": "d30dd149-aa84-400b-f9b4-180dd7e522c2"
   },
   "outputs": [
    {
     "data": {
      "text/plain": [
       "Power_divergenceResult(statistic=1.52, pvalue=0.6776620931894992)"
      ]
     },
     "execution_count": 14,
     "metadata": {},
     "output_type": "execute_result"
    }
   ],
   "source": [
    "from scipy import stats\n",
    "\n",
    "nbins = 4\n",
    "observed_frequencies, bin_edges = np.histogram(samples[-1], bins=np.linspace(0, 1, nbins+1))\n",
    "\n",
    "stats.chisquare(f_obs=observed_frequencies)"
   ]
  },
  {
   "cell_type": "markdown",
   "metadata": {
    "id": "B5rftxwD1cBY"
   },
   "source": [
    "En este caso, el p-valor es mayor a 0.05, que es más que suficiente para no rechazar la hipótesis nula, y por tanto, se puede considerar que la muestra sigue una distribución uniforme.\n",
    "\n",
    "Del mismo modo, el **Test de Kolmogorov – Smirnov**, permite también comprobar la uniformidad de una muestra. Este test determina la bondad de ajuste de dos distribuciones de probabilidad entre sí. Si comparamos la muestra con una distribución \"canónicamente\" uniforme"
   ]
  },
  {
   "cell_type": "code",
   "execution_count": 15,
   "metadata": {},
   "outputs": [
    {
     "data": {
      "text/plain": [
       "KstestResult(statistic=0.07118264526803086, pvalue=0.6647209533871039, statistic_location=0.7588173547319691, statistic_sign=1)"
      ]
     },
     "execution_count": 15,
     "metadata": {},
     "output_type": "execute_result"
    }
   ],
   "source": [
    "import numpy as np\n",
    "from scipy import stats\n",
    "\n",
    "# por defecto es 'two-sided', es decir, bilateral.\n",
    "stats.kstest(samples[-1], stats.uniform.cdf)"
   ]
  },
  {
   "cell_type": "markdown",
   "metadata": {},
   "source": [
    "Que con un p-valor mayor a 0.05, permite no rechazar la hipótesis nula, y obtener la misma conclusión que con el test de la $\\chi^2$ cuadrado. Dado que ambos tests nos han dado resultados similares, podemos reafirmar la conclusión de que **la muestra sigue una distribución uniforme**.\n",
    "\n",
    "### Contrastando la independencia\n",
    "\n",
    "Para contrastar si la distribución es independiente (es decir, es aleatoria conforme a que los datos se han generado de manera aleatoria e independiente) se puede utilizar el test o la **Prueba de Rachas**. Esta prueba dicta lo siguiente:\n",
    "\n",
    "- Hipótesis nula, $H_0$: Las muestras han sido generadas aleatoriamente.\n",
    "- Hipótesis alternativa, $H_1$: Las muestras no han sido generadasa aleatoriamente\n",
    "\n",
    "Definimos como criterio de rechace o aceptación de la hipótesis nula el p-valor. Si el p-valor es mayor que 0.05, aceptamos la hipótesis nula; en caso contrario, la rechazamos (es decir, tomamos como válida la hipótesis alternativa)"
   ]
  },
  {
   "cell_type": "code",
   "execution_count": 16,
   "metadata": {},
   "outputs": [
    {
     "data": {
      "text/plain": [
       "0.5489893464881064"
      ]
     },
     "execution_count": 16,
     "metadata": {},
     "output_type": "execute_result"
    }
   ],
   "source": [
    "from statsmodels.sandbox.stats.runs import runstest_1samp\n",
    "[Z_statistic, p_value] = runstest_1samp(samples[-1], correction=False)\n",
    "p_value"
   ]
  },
  {
   "cell_type": "markdown",
   "metadata": {},
   "source": [
    "El p-valor obtenido permite no rechazar la hipótesis nula, es decir, **la muestra ha generado valores aleatoriamente independientes**."
   ]
  }
 ],
 "metadata": {
  "colab": {
   "provenance": []
  },
  "kernelspec": {
   "display_name": "Python 3 (ipykernel)",
   "language": "python",
   "name": "python3"
  },
  "language_info": {
   "codemirror_mode": {
    "name": "ipython",
    "version": 3
   },
   "file_extension": ".py",
   "mimetype": "text/x-python",
   "name": "python",
   "nbconvert_exporter": "python",
   "pygments_lexer": "ipython3",
   "version": "3.10.9"
  }
 },
 "nbformat": 4,
 "nbformat_minor": 1
}
