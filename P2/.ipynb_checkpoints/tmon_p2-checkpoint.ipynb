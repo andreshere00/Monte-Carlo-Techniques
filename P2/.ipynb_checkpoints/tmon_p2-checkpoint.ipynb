{
 "cells": [
  {
   "cell_type": "markdown",
   "id": "b8dadebe",
   "metadata": {},
   "source": [
    "# MONTE CARLO TECHNIQUES\n",
    "\n",
    "\n",
    "**Andrés Herencia López-Menchero.**\n",
    "\n",
    "**MUTECI 2023/2024.**\n",
    "\n",
    "\n",
    "## PRACTICE 2 - Getting metrics about a M/M/1 model\n",
    "\n",
    "\n",
    "Modify the code shown on the slides with the example of the M/M/1 car wash model to allow the following efficiency measures to be determined:\n",
    "\n",
    "- $L$ = Average number of clients in the system\n",
    "- $L_q$ = Average number of customers in queue\n",
    "- $W$ = Average time of clients in the system\n",
    "- $W_q$ = Average time of customers in queue"
   ]
  },
  {
   "cell_type": "markdown",
   "id": "679d12f9",
   "metadata": {},
   "source": [
    "### Code"
   ]
  },
  {
   "cell_type": "code",
   "execution_count": 1,
   "id": "3fd3616b",
   "metadata": {},
   "outputs": [],
   "source": [
    "import numpy as np\n",
    "import pandas as pd\n",
    "\n",
    "def mm1_model(N=100, L=1/7, mu=1/5, seed = 12345):\n",
    "    \n",
    "    \"\"\"\n",
    "    Simulates an M/M/1 queue system and calculates some performance metrics.\n",
    "\n",
    "    Args:\n",
    "    - N (int): Number of time units to simulate. Default = 100.\n",
    "    - L (float): Average arrival rate (customers per time unit). Default = 1/7.\n",
    "    - mu (float): Average service rate (customers per time unit). Default = 1/5.\n",
    "    - seed (int): Seed for saving the random state. Default = 12345.\n",
    "\n",
    "    Returns:\n",
    "    tuple: A tuple containing:\n",
    "        - queue_model (pandas.DataFrame): A DataFrame that records the system's state at each time unit. It contains the following parameters:\n",
    "            * t (float): time index\n",
    "            * queue (int): number of customers in the queue in each t.\n",
    "            * service (int): number of customers served by the system in each t.\n",
    "            * arrivals (int): total arrivals since simulation has started.\n",
    "            * stay (float): time that the system maintains its current state.\n",
    "            * arrival time (float): predicted time of arrival for new customer.\n",
    "            * service time (float): predicted time of end of service for current customer.\n",
    "        - Ls (float): Average number of customers in the system.\n",
    "        - Lq (float): Average number of customers in the queue.\n",
    "        - Ws (float): Average time customers spend in the system.\n",
    "        - Wq (float): Average time customers spend in the queue.\n",
    "        - Leff (float): Current lambda obtained after simulation process.\n",
    "\n",
    "    Raises:\n",
    "    Exception: An exception is raised if the arrival rate (L) is greater than the service rate (mu), indicating that the system has not reached the stationary state (process explosive). Additionally, an exception is raised when the arguments are not natural numbers or when L or mu are higher than 1 or lower than 0. \n",
    "    \"\"\"\n",
    "    \n",
    "    if L/mu > 1:\n",
    "        raise Exception(\"The system has not reached stationary state. You must redefine the parameters of your model.\")\n",
    "    if (N<=0) or type(N) != int:\n",
    "        raise Exception(\"The simulation time must be a natural number.\")\n",
    "    if (L<0) or (L>1) or (mu<0) or (mu>1) or type(L) != float or type(mu) != float:\n",
    "        raise Exception(\"The parameters of the random distribution are not a number or are greater than 1 or lower than 0.\")\n",
    "    if seed < 0:\n",
    "        raise Exception('The random seed must be a natural number.')\n",
    "        \n",
    "    np.random.seed(seed)\n",
    "    arrival_time = np.random.exponential(scale=1/L)\n",
    "    service_time = np.random.exponential(scale=1/mu)\n",
    "    stay = 0; t = 0; queue = 0; service = 0; arrivals = 0;\n",
    "\n",
    "    queue_model = pd.DataFrame({\n",
    "        't': [t],\n",
    "        'queue': [queue],\n",
    "        'service': [service],\n",
    "        'arrivals': [arrivals],\n",
    "        'stay': [stay],\n",
    "        'arrival time': [arrival_time],\n",
    "        'service time': [service_time]\n",
    "    })\n",
    "\n",
    "    while min(arrival_time, service_time) <= N:\n",
    "        if arrival_time <= service_time:\n",
    "            t = arrival_time\n",
    "            if service > 0: # client stays in the queue\n",
    "                queue += 1\n",
    "            else: # a client can be served in this moment\n",
    "                service = 1\n",
    "            arrivals += 1\n",
    "            arrival_time = t + np.random.exponential(scale=1/L)\n",
    "        else:                   \n",
    "            t = service_time\n",
    "            if queue > 0: # client is dispatched from the queue to the server\n",
    "                queue -= 1\n",
    "                service_time = t + np.random.exponential(scale=1/mu)\n",
    "            else: # no one in queue and previous service has finished, system at rest         \n",
    "                service = 0\n",
    "                service_time = arrival_time + np.random.exponential(scale=1/mu)\n",
    "        stay = min(arrival_time, service_time) - t\n",
    "\n",
    "        new_register = pd.DataFrame({\n",
    "            't': [t],\n",
    "            'queue': [queue],\n",
    "            'service': [service],\n",
    "            'arrivals': [arrivals],\n",
    "            'stay': [stay],\n",
    "            'arrival time': [arrival_time],\n",
    "            'service time': [service_time]\n",
    "        })\n",
    "        queue_model = pd.concat([queue_model, new_register], ignore_index=True)\n",
    "    \n",
    "    L_eff = 1/np.mean(np.diff(queue_model['arrival time'].unique()))\n",
    "    \n",
    "    queue_time = []; wait_times = []\n",
    "    for q in range(1,len(queue_model['queue'])):\n",
    "        if queue_model['queue'][q] > queue_model['queue'][q-1]:\n",
    "            queue_time.append(queue_model['t'][q])                                                                                               \n",
    "        elif queue_model['queue'][q] < queue_model['queue'][q-1]:\n",
    "            wait_times.append(queue_model['t'][q] - queue_time.pop(0))\n",
    "    \n",
    "    # Average clients time in the queue (Wq)\n",
    "    Wq = np.mean(wait_times)\n",
    "    # Wq = Ws - 1/mu\n",
    "    # Average clients time in the system (Ws)\n",
    "    # Ws = np.mean(np.diff(queue_model['service time'])) + Wq \n",
    "    Ws = Wq + 1/mu\n",
    "    # Average clients in the system (Ls)\n",
    "    Ls = L_eff * Ws\n",
    "    # Ls = np.mean(queue_model['queue']) + np.mean(queue_model['service'])\n",
    "    # Average clients in the queue (Lq)\n",
    "    Lq = L_eff * Wq\n",
    "    # Lq = np.mean(queue_model['queue'])\n",
    "    \n",
    "    return queue_model, Ls, Lq, Ws, Wq, L_eff"
   ]
  },
  {
   "cell_type": "markdown",
   "id": "ac1eb382",
   "metadata": {},
   "source": [
    "### Model"
   ]
  },
  {
   "cell_type": "code",
   "execution_count": 2,
   "id": "7069ccf8",
   "metadata": {},
   "outputs": [
    {
     "name": "stdout",
     "output_type": "stream",
     "text": [
      "Help on function mm1_model in module __main__:\n",
      "\n",
      "mm1_model(N=100, L=0.14285714285714285, mu=0.2, seed=12345)\n",
      "    Simulates an M/M/1 queue system and calculates some performance metrics.\n",
      "    \n",
      "    Args:\n",
      "    - N (int): Number of time units to simulate. Default = 100.\n",
      "    - L (float): Average arrival rate (customers per time unit). Default = 1/7.\n",
      "    - mu (float): Average service rate (customers per time unit). Default = 1/5.\n",
      "    - seed (int): Seed for saving the random state. Default = 12345.\n",
      "    \n",
      "    Returns:\n",
      "    tuple: A tuple containing:\n",
      "        - queue_model (pandas.DataFrame): A DataFrame that records the system's state at each time unit. It contains the following parameters:\n",
      "            * t (float): time index\n",
      "            * queue (int): number of customers in the queue in each t.\n",
      "            * service (int): number of customers served by the system in each t.\n",
      "            * arrivals (int): total arrivals since simulation has started.\n",
      "            * stay (float): time that the system maintains its current state.\n",
      "            * arrival time (float): predicted time of arrival for new customer.\n",
      "            * service time (float): predicted time of end of service for current customer.\n",
      "        - Ls (float): Average number of customers in the system.\n",
      "        - Lq (float): Average number of customers in the queue.\n",
      "        - Ws (float): Average time customers spend in the system.\n",
      "        - Wq (float): Average time customers spend in the queue.\n",
      "        - Leff (float): Current lambda obtained after simulation process.\n",
      "    \n",
      "    Raises:\n",
      "    Exception: An exception is raised if the arrival rate (L) is greater than the service rate (mu), indicating that the system has not reached the stationary state (process explosive). Additionally, an exception is raised when the arguments are not natural numbers or when L or mu are higher than 1 or lower than 0.\n",
      "\n"
     ]
    }
   ],
   "source": [
    "help(mm1_model)"
   ]
  },
  {
   "cell_type": "code",
   "execution_count": 3,
   "id": "b97547f0",
   "metadata": {},
   "outputs": [
    {
     "data": {
      "text/html": [
       "<div>\n",
       "<style scoped>\n",
       "    .dataframe tbody tr th:only-of-type {\n",
       "        vertical-align: middle;\n",
       "    }\n",
       "\n",
       "    .dataframe tbody tr th {\n",
       "        vertical-align: top;\n",
       "    }\n",
       "\n",
       "    .dataframe thead th {\n",
       "        text-align: right;\n",
       "    }\n",
       "</style>\n",
       "<table border=\"1\" class=\"dataframe\">\n",
       "  <thead>\n",
       "    <tr style=\"text-align: right;\">\n",
       "      <th></th>\n",
       "      <th>t</th>\n",
       "      <th>queue</th>\n",
       "      <th>service</th>\n",
       "      <th>arrivals</th>\n",
       "      <th>stay</th>\n",
       "      <th>arrival time</th>\n",
       "      <th>service time</th>\n",
       "    </tr>\n",
       "  </thead>\n",
       "  <tbody>\n",
       "    <tr>\n",
       "      <th>0</th>\n",
       "      <td>0.000000</td>\n",
       "      <td>0</td>\n",
       "      <td>0</td>\n",
       "      <td>0</td>\n",
       "      <td>0.000000</td>\n",
       "      <td>18.576534</td>\n",
       "      <td>1.901733</td>\n",
       "    </tr>\n",
       "    <tr>\n",
       "      <th>1</th>\n",
       "      <td>1.901733</td>\n",
       "      <td>0</td>\n",
       "      <td>0</td>\n",
       "      <td>0</td>\n",
       "      <td>16.674802</td>\n",
       "      <td>18.576534</td>\n",
       "      <td>19.592742</td>\n",
       "    </tr>\n",
       "    <tr>\n",
       "      <th>2</th>\n",
       "      <td>18.576534</td>\n",
       "      <td>0</td>\n",
       "      <td>1</td>\n",
       "      <td>1</td>\n",
       "      <td>1.016207</td>\n",
       "      <td>20.178556</td>\n",
       "      <td>19.592742</td>\n",
       "    </tr>\n",
       "    <tr>\n",
       "      <th>3</th>\n",
       "      <td>19.592742</td>\n",
       "      <td>0</td>\n",
       "      <td>0</td>\n",
       "      <td>1</td>\n",
       "      <td>0.585814</td>\n",
       "      <td>20.178556</td>\n",
       "      <td>24.372023</td>\n",
       "    </tr>\n",
       "    <tr>\n",
       "      <th>4</th>\n",
       "      <td>20.178556</td>\n",
       "      <td>0</td>\n",
       "      <td>1</td>\n",
       "      <td>2</td>\n",
       "      <td>4.193467</td>\n",
       "      <td>26.515054</td>\n",
       "      <td>24.372023</td>\n",
       "    </tr>\n",
       "    <tr>\n",
       "      <th>...</th>\n",
       "      <td>...</td>\n",
       "      <td>...</td>\n",
       "      <td>...</td>\n",
       "      <td>...</td>\n",
       "      <td>...</td>\n",
       "      <td>...</td>\n",
       "      <td>...</td>\n",
       "    </tr>\n",
       "    <tr>\n",
       "      <th>2915</th>\n",
       "      <td>9990.280429</td>\n",
       "      <td>3</td>\n",
       "      <td>1</td>\n",
       "      <td>1459</td>\n",
       "      <td>1.195817</td>\n",
       "      <td>10007.160810</td>\n",
       "      <td>9991.476246</td>\n",
       "    </tr>\n",
       "    <tr>\n",
       "      <th>2916</th>\n",
       "      <td>9991.476246</td>\n",
       "      <td>2</td>\n",
       "      <td>1</td>\n",
       "      <td>1459</td>\n",
       "      <td>1.744110</td>\n",
       "      <td>10007.160810</td>\n",
       "      <td>9993.220355</td>\n",
       "    </tr>\n",
       "    <tr>\n",
       "      <th>2917</th>\n",
       "      <td>9993.220355</td>\n",
       "      <td>1</td>\n",
       "      <td>1</td>\n",
       "      <td>1459</td>\n",
       "      <td>2.187471</td>\n",
       "      <td>10007.160810</td>\n",
       "      <td>9995.407826</td>\n",
       "    </tr>\n",
       "    <tr>\n",
       "      <th>2918</th>\n",
       "      <td>9995.407826</td>\n",
       "      <td>0</td>\n",
       "      <td>1</td>\n",
       "      <td>1459</td>\n",
       "      <td>2.485316</td>\n",
       "      <td>10007.160810</td>\n",
       "      <td>9997.893142</td>\n",
       "    </tr>\n",
       "    <tr>\n",
       "      <th>2919</th>\n",
       "      <td>9997.893142</td>\n",
       "      <td>0</td>\n",
       "      <td>0</td>\n",
       "      <td>1459</td>\n",
       "      <td>9.267668</td>\n",
       "      <td>10007.160810</td>\n",
       "      <td>10009.064305</td>\n",
       "    </tr>\n",
       "  </tbody>\n",
       "</table>\n",
       "<p>2920 rows × 7 columns</p>\n",
       "</div>"
      ],
      "text/plain": [
       "                t  queue  service  arrivals       stay  arrival time  \\\n",
       "0        0.000000      0        0         0   0.000000     18.576534   \n",
       "1        1.901733      0        0         0  16.674802     18.576534   \n",
       "2       18.576534      0        1         1   1.016207     20.178556   \n",
       "3       19.592742      0        0         1   0.585814     20.178556   \n",
       "4       20.178556      0        1         2   4.193467     26.515054   \n",
       "...           ...    ...      ...       ...        ...           ...   \n",
       "2915  9990.280429      3        1      1459   1.195817  10007.160810   \n",
       "2916  9991.476246      2        1      1459   1.744110  10007.160810   \n",
       "2917  9993.220355      1        1      1459   2.187471  10007.160810   \n",
       "2918  9995.407826      0        1      1459   2.485316  10007.160810   \n",
       "2919  9997.893142      0        0      1459   9.267668  10007.160810   \n",
       "\n",
       "      service time  \n",
       "0         1.901733  \n",
       "1        19.592742  \n",
       "2        19.592742  \n",
       "3        24.372023  \n",
       "4        24.372023  \n",
       "...            ...  \n",
       "2915   9991.476246  \n",
       "2916   9993.220355  \n",
       "2917   9995.407826  \n",
       "2918   9997.893142  \n",
       "2919  10009.064305  \n",
       "\n",
       "[2920 rows x 7 columns]"
      ]
     },
     "execution_count": 3,
     "metadata": {},
     "output_type": "execute_result"
    }
   ],
   "source": [
    "[model, Ls, Lq, Ws, Wq, L_eff] = mm1_model(N = 10000, L = 1/7, mu = 1/5, seed = 12345)\n",
    "model"
   ]
  },
  {
   "cell_type": "markdown",
   "id": "deae422d",
   "metadata": {},
   "source": [
    "### Metrics\n",
    "\n",
    "#### $L$ = Average number of clients in the system"
   ]
  },
  {
   "cell_type": "code",
   "execution_count": 4,
   "id": "42f3e984",
   "metadata": {},
   "outputs": [
    {
     "data": {
      "text/plain": [
       "3.0613"
      ]
     },
     "execution_count": 4,
     "metadata": {},
     "output_type": "execute_result"
    }
   ],
   "source": [
    "round(Ls,4)"
   ]
  },
  {
   "cell_type": "markdown",
   "id": "f09c8921",
   "metadata": {},
   "source": [
    "#### $L_q$ = Average number of customers in the queue"
   ]
  },
  {
   "cell_type": "code",
   "execution_count": 5,
   "id": "fa11691e",
   "metadata": {},
   "outputs": [
    {
     "data": {
      "text/plain": [
       "2.331"
      ]
     },
     "execution_count": 5,
     "metadata": {},
     "output_type": "execute_result"
    }
   ],
   "source": [
    "round(Lq,4)"
   ]
  },
  {
   "cell_type": "markdown",
   "id": "a6fc956f",
   "metadata": {},
   "source": [
    "#### $W$ = Average time of clients in the system (minutes)"
   ]
  },
  {
   "cell_type": "code",
   "execution_count": 6,
   "id": "51cac3c4",
   "metadata": {},
   "outputs": [
    {
     "data": {
      "text/plain": [
       "20.9583"
      ]
     },
     "execution_count": 6,
     "metadata": {},
     "output_type": "execute_result"
    }
   ],
   "source": [
    "round(Ws,4)"
   ]
  },
  {
   "cell_type": "markdown",
   "id": "dce49ad6",
   "metadata": {},
   "source": [
    "#### $W_q$ = Average time of clients in the queue (minutes)"
   ]
  },
  {
   "cell_type": "code",
   "execution_count": 7,
   "id": "45eb3656",
   "metadata": {},
   "outputs": [
    {
     "data": {
      "text/plain": [
       "15.9583"
      ]
     },
     "execution_count": 7,
     "metadata": {},
     "output_type": "execute_result"
    }
   ],
   "source": [
    "round(Wq,4)"
   ]
  }
 ],
 "metadata": {
  "kernelspec": {
   "display_name": "Python 3 (ipykernel)",
   "language": "python",
   "name": "python3"
  },
  "language_info": {
   "codemirror_mode": {
    "name": "ipython",
    "version": 3
   },
   "file_extension": ".py",
   "mimetype": "text/x-python",
   "name": "python",
   "nbconvert_exporter": "python",
   "pygments_lexer": "ipython3",
   "version": "3.10.9"
  }
 },
 "nbformat": 4,
 "nbformat_minor": 5
}
