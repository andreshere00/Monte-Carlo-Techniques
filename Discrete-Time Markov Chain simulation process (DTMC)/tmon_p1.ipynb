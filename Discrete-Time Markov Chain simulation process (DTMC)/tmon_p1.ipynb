{
 "cells": [
  {
   "cell_type": "markdown",
   "metadata": {
    "id": "Ewft0NoWWz3h"
   },
   "source": [
    "# **Montecarlo Techniques - Practice 1**\n",
    "\n",
    "Andrés Herencia López-Menchero\n",
    "\n",
    "MUTECI - 2023/2024\n",
    "\n",
    "## **Old car simulation process**"
   ]
  },
  {
   "cell_type": "markdown",
   "metadata": {
    "id": "Hkjza9IzXfU6"
   },
   "source": [
    "### Implement the simulation model of the old car problem in R or python."
   ]
  },
  {
   "cell_type": "code",
   "execution_count": 1,
   "metadata": {
    "id": "NbGq_EhNuii_"
   },
   "outputs": [],
   "source": [
    "import numpy as np\n",
    "import random\n",
    "\n",
    "### Implement the simulation model of the old car problem in R or python.\n",
    "\n",
    "def dtmc(N = 10**4, transitionMatrix = [[1, 0, 0, 0],\n",
    "                                        [0.05, 0.50, 0.20, 0.25],\n",
    "                                        [0.10, 0.75, 0, 0.15],\n",
    "                                        [0, 0, 0, 1]], \n",
    "         initialState = 1, finalState = 0):\n",
    "\n",
    "    \"\"\"\n",
    "    Simulate a Discrete-Time Markov Chain (DTMC).\n",
    "\n",
    "    Parameters:\n",
    "    - N (int): The number of steps to simulate the Markov Chain. Default is 1000.\n",
    "    - transitionMatrix (list of lists): The transition matrix representing the DTMC. Default is a 4x4 matrix.\n",
    "    - initialState (int): The initial state from which the simulation starts. Default is state 1.\n",
    "    - finalState (int): The absorption state, if any, at which the simulation should stop. Default is state 0.\n",
    "\n",
    "    Returns:\n",
    "    - t: A list which contains the number of steps from the initialState to the finalState in each iteration.\n",
    "    - p: A list which indicates whether the iteration has reach to the finalState (1) or not (0).\n",
    "    - states: A list that saves all the states it has gone through since the initial state for each iteration.\n",
    "    \"\"\"\n",
    "    \n",
    "    # list where we will save our states\n",
    "    states = [initialState]\n",
    "    np.random.seed(123)\n",
    "    p = np.zeros(N)              # final state reached.\n",
    "    t = np.full(N,np.nan)              # simulation time.\n",
    "    states = [[] for _ in range(N)]     # states.                          \n",
    "\n",
    "    # check if we have an absorption state\n",
    "    absorption_state = []\n",
    "    for tm in range(0,len(transitionMatrix)):\n",
    "        for m in transitionMatrix[tm]:\n",
    "            if (m == 1)&(transitionMatrix[tm].index(m) == tm):\n",
    "                absorption_state.append(tm)\n",
    "        \n",
    "    # simulation\n",
    "    for n in range(N):\n",
    "        i = initialState\n",
    "        states[n].append(i)\n",
    "        while (i not in absorption_state):\n",
    "            j = -1; # columns of our transition matrix (this is the 'next state' column)\n",
    "            pj = 0; # transition probability from state 'i' to state 'j'.\n",
    "            threshold = np.random.uniform(0, 1)\n",
    "            while (pj < threshold):\n",
    "                j += 1\n",
    "                pj = pj + transitionMatrix[i][j]\n",
    "            i = j\n",
    "            states[n].append(i)\n",
    "            if i == finalState:\n",
    "                t[n] = len(states[n])-1\n",
    "                p[n] += 1\n",
    "    return(t,p,states)"
   ]
  },
  {
   "cell_type": "code",
   "execution_count": 2,
   "metadata": {},
   "outputs": [
    {
     "name": "stdout",
     "output_type": "stream",
     "text": [
      "Help on function dtmc in module __main__:\n",
      "\n",
      "dtmc(N=10000, transitionMatrix=[[1, 0, 0, 0], [0.05, 0.5, 0.2, 0.25], [0.1, 0.75, 0, 0.15], [0, 0, 0, 1]], initialState=1, finalState=0)\n",
      "    Simulate a Discrete-Time Markov Chain (DTMC).\n",
      "    \n",
      "    Parameters:\n",
      "    - N (int): The number of steps to simulate the Markov Chain. Default is 1000.\n",
      "    - transitionMatrix (list of lists): The transition matrix representing the DTMC. Default is a 4x4 matrix.\n",
      "    - initialState (int): The initial state from which the simulation starts. Default is state 1.\n",
      "    - finalState (int): The absorption state, if any, at which the simulation should stop. Default is state 0.\n",
      "    \n",
      "    Returns:\n",
      "    - t: A list which contains the number of steps from the initialState to the finalState in each iteration.\n",
      "    - p: A list which indicates whether the iteration has reach to the finalState (1) or not (0).\n",
      "    - states: A list that saves all the states it has gone through since the initial state for each iteration.\n",
      "\n"
     ]
    }
   ],
   "source": [
    "help(dtmc)"
   ]
  },
  {
   "cell_type": "markdown",
   "metadata": {},
   "source": [
    "### Example of use and some metrics"
   ]
  },
  {
   "cell_type": "code",
   "execution_count": 3,
   "metadata": {},
   "outputs": [
    {
     "name": "stdout",
     "output_type": "stream",
     "text": [
      "The number of steps consumed to reach to the final state in each iteration is [nan 24. nan ... nan nan nan]\n",
      "The times that our function has reached to the final state is 19887.0 in 100000 simulations\n",
      "The history of states in 100000 simulations is [[1, 2, 1, 1, 2, 1, 1, 3], [1, 2, 1, 1, 1, 2, 1, 1, 1, 2, 1, 1, 1, 1, 2, 1, 2, 1, 2, 1, 1, 1, 1, 2, 0], [1, 1, 1, 1, 1, 1, 1, 3], [1, 3], [1, 1, 2, 1, 1, 1, 3]]\n"
     ]
    }
   ],
   "source": [
    "N = 10**5\n",
    "initialState = 1\n",
    "finalState = 0\n",
    "transitionMatrix = [[1, 0, 0, 0],\n",
    "                    [0.05, 0.50, 0.20, 0.25],\n",
    "                    [0.10, 0.75, 0, 0.15],\n",
    "                    [0, 0, 0, 1]]\n",
    "[t,p,s] = dtmc(N=N,transitionMatrix=transitionMatrix,initialState=initialState,finalState=finalState)\n",
    "print('The number of steps consumed to reach to the final state in each iteration is '+str(t))\n",
    "print('The times that our function has reached to the final state is',str(sum(p)),'in',N,'simulations')\n",
    "print('The history of states in',N,'simulations is',str(s[0:5]))"
   ]
  },
  {
   "cell_type": "markdown",
   "metadata": {
    "id": "RQXN66Hq7jB_"
   },
   "source": [
    "### Approximate the absorption time from `Operativo` to `Siniestrado` through simulation (years)."
   ]
  },
  {
   "cell_type": "code",
   "execution_count": 4,
   "metadata": {
    "colab": {
     "base_uri": "https://localhost:8080/",
     "height": 0
    },
    "id": "v1Up4eXevhjL",
    "outputId": "56cf95c8-0da5-421d-e3fc-cffbd1f10c40"
   },
   "outputs": [
    {
     "data": {
      "text/plain": [
       "3.571227435007794"
      ]
     },
     "execution_count": 4,
     "metadata": {},
     "output_type": "execute_result"
    }
   ],
   "source": [
    "np.nanmean(dtmc(N=N, initialState = 1, finalState = 0)[0])"
   ]
  },
  {
   "cell_type": "markdown",
   "metadata": {
    "id": "JcXrcY3Q70jg"
   },
   "source": [
    "### Approximate through simulation the probability of absorption from `Averiado` to `Vendido` (%)."
   ]
  },
  {
   "cell_type": "code",
   "execution_count": 5,
   "metadata": {
    "colab": {
     "base_uri": "https://localhost:8080/",
     "height": 0
    },
    "id": "Om2BvCtE75_2",
    "outputId": "e9ec7f61-2494-459e-87d4-b1310ae66f71"
   },
   "outputs": [
    {
     "data": {
      "text/plain": [
       "75.168"
      ]
     },
     "execution_count": 5,
     "metadata": {},
     "output_type": "execute_result"
    }
   ],
   "source": [
    "round(sum(dtmc(N=N,initialState = 2, finalState = 3)[1])*100/N,4)"
   ]
  }
 ],
 "metadata": {
  "colab": {
   "provenance": []
  },
  "kernelspec": {
   "display_name": "Python 3 (ipykernel)",
   "language": "python",
   "name": "python3"
  },
  "language_info": {
   "codemirror_mode": {
    "name": "ipython",
    "version": 3
   },
   "file_extension": ".py",
   "mimetype": "text/x-python",
   "name": "python",
   "nbconvert_exporter": "python",
   "pygments_lexer": "ipython3",
   "version": "3.10.9"
  }
 },
 "nbformat": 4,
 "nbformat_minor": 1
}
